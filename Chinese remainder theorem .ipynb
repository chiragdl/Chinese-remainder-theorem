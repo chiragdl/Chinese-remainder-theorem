{
 "cells": [
  {
   "cell_type": "code",
   "execution_count": 1,
   "id": "8945e2f5",
   "metadata": {},
   "outputs": [
    {
     "name": "stdout",
     "output_type": "stream",
     "text": [
      "enter the value of n: 5\n",
      "enter the value of r: 1\n",
      "enter the value of n: 7\n",
      "enter the value of r: 3\n",
      "enter the value of n: 9\n",
      "enter the value of r: 1\n",
      "Chinese remainder therorm: 136\n"
     ]
    }
   ],
   "source": [
    "from functools import reduce\n",
    "def chinese_remainder(n, a):\n",
    "    sum = 0\n",
    "    prod = reduce(lambda a, b: a*b, n)\n",
    "    for n_i, a_i in zip(n, a):\n",
    "        p = prod // n_i\n",
    "        sum += a_i * mul_inv(p, n_i) * p\n",
    "    return sum % prod\n",
    "\n",
    "def mul_inv(a, b):\n",
    "    b0 = b\n",
    "    x0, x1 = 0, 1\n",
    "    if b == 1: \n",
    "        return 1\n",
    "    while a > 1:\n",
    "        q = a // b\n",
    "        a, b = b, a%b\n",
    "        x0, x1 = x1 - q * x0, x0\n",
    "    if x1 < 0: \n",
    "        x1 += b0\n",
    "    return x1\n",
    "\n",
    "if __name__ == '__main__':\n",
    "    n=[]\n",
    "    a=[]\n",
    "    for i in range(0,3):\n",
    "        p=int(input('enter the value of n: '))\n",
    "        q=int(input('enter the value of r: '))\n",
    "        n.append(p)\n",
    "        a.append(q)\n",
    "        \n",
    "    print('Chinese remainder therorm:',chinese_remainder(n, a))"
   ]
  },
  {
   "cell_type": "code",
   "execution_count": 2,
   "id": "8cf71278",
   "metadata": {},
   "outputs": [
    {
     "name": "stdout",
     "output_type": "stream",
     "text": [
      "enter the value of n: 6\n",
      "enter the value of r: 2\n",
      "enter the value of n: 7\n",
      "enter the value of r: 3\n",
      "enter the value of n: 11\n",
      "enter the value of r: 4\n",
      "Chinese remainder therorm: 290\n"
     ]
    }
   ],
   "source": [
    "#test case: \n",
    "from functools import reduce\n",
    "def chinese_remainder(n, a):\n",
    "    sum = 0\n",
    "    prod = reduce(lambda a, b: a*b, n)\n",
    "    for n_i, a_i in zip(n, a):\n",
    "        p = prod // n_i\n",
    "        sum += a_i * mul_inv(p, n_i) * p\n",
    "    return sum % prod\n",
    "\n",
    "def mul_inv(a, b):\n",
    "    b0 = b\n",
    "    x0, x1 = 0, 1\n",
    "    if b == 1: \n",
    "        return 1\n",
    "    while a > 1:\n",
    "        q = a // b\n",
    "        a, b = b, a%b\n",
    "        x0, x1 = x1 - q * x0, x0\n",
    "    if x1 < 0: \n",
    "        x1 += b0\n",
    "    return x1\n",
    "\n",
    "if __name__ == '__main__':\n",
    "    n=[]\n",
    "    a=[]\n",
    "    for i in range(0,3):\n",
    "        p=int(input('enter the value of n: '))\n",
    "        q=int(input('enter the value of r: '))\n",
    "        n.append(p)\n",
    "        a.append(q)\n",
    "        \n",
    "    print('Chinese remainder therorm:',chinese_remainder(n, a))"
   ]
  },
  {
   "cell_type": "code",
   "execution_count": null,
   "id": "37215309",
   "metadata": {},
   "outputs": [],
   "source": []
  }
 ],
 "metadata": {
  "kernelspec": {
   "display_name": "Python 3 (ipykernel)",
   "language": "python",
   "name": "python3"
  },
  "language_info": {
   "codemirror_mode": {
    "name": "ipython",
    "version": 3
   },
   "file_extension": ".py",
   "mimetype": "text/x-python",
   "name": "python",
   "nbconvert_exporter": "python",
   "pygments_lexer": "ipython3",
   "version": "3.9.13"
  }
 },
 "nbformat": 4,
 "nbformat_minor": 5
}
